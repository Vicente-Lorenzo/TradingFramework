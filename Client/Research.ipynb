{
 "cells": [
  {
   "cell_type": "code",
   "execution_count": 1,
   "id": "initial_id",
   "metadata": {
    "collapsed": true,
    "ExecuteTime": {
     "end_time": "2024-03-28T19:19:09.558288Z",
     "start_time": "2024-03-28T19:19:08.949436Z"
    }
   },
   "source": [
    "import numpy as np\n",
    "import logging\n",
    "from Database.Database import Database\n",
    "import talib"
   ],
   "outputs": []
  },
  {
   "cell_type": "code",
   "source": [
    "db = Database(\"EURUSD\", \"Daily\", logging.getLogger(__name__))\n",
    "data = db.load_data()"
   ],
   "metadata": {
    "collapsed": false,
    "ExecuteTime": {
     "end_time": "2024-03-28T19:19:11.164703Z",
     "start_time": "2024-03-28T19:19:09.560418Z"
    }
   },
   "id": "c6d2c7837e3f3c94",
   "execution_count": 2,
   "outputs": []
  }
 ],
 "metadata": {
  "kernelspec": {
   "display_name": "Python 3",
   "language": "python",
   "name": "python3"
  },
  "language_info": {
   "codemirror_mode": {
    "name": "ipython",
    "version": 2
   },
   "file_extension": ".py",
   "mimetype": "text/x-python",
   "name": "python",
   "nbconvert_exporter": "python",
   "pygments_lexer": "ipython2",
   "version": "2.7.6"
  }
 },
 "nbformat": 4,
 "nbformat_minor": 5
}
